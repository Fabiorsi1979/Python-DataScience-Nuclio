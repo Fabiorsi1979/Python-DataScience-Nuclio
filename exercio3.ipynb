{
 "cells": [
  {
   "cell_type": "markdown",
   "id": "ad516d5f",
   "metadata": {},
   "source": [
    "Operadores\n",
    "\n",
    "Exemplo 1 - \n",
    "    Faça um programa do leia do teclado o ano de nascimento e calcule a idade da pessoa simplesmente com o resto entre o ano atual e o ano de nascimento, em seguida queremos que nos mostre a idade da pessoa na tela. O formato da mensagem deve ser : \" Você tem XX anos\", onde xx é om número.\n"
   ]
  },
  {
   "cell_type": "code",
   "execution_count": 4,
   "id": "e7446780",
   "metadata": {},
   "outputs": [
    {
     "name": "stdout",
     "output_type": "stream",
     "text": [
      "Informe o ano que você nasceu: 1979\n",
      " Você tem  44  anos\n"
     ]
    }
   ],
   "source": [
    "idade = int(input(\"Informe o ano que você nasceu: \"))\n",
    "ano_atual = 2023\n",
    "if idade >= ano_atual:\n",
    "    idade = idade - ano_atual\n",
    "else:\n",
    "    idade = ano_atual - idade\n",
    "\n",
    "print(\" Você tem \",idade,\" anos\")"
   ]
  },
  {
   "cell_type": "markdown",
   "id": "c1180224",
   "metadata": {},
   "source": [
    "Exemplo 2 -\n",
    "     Faça um programa que peça oa usuário introduzir o tamanho do lado de um quadrado. O programa deve calcular a área de um quadrado e exibi-la na tela."
   ]
  },
  {
   "cell_type": "code",
   "execution_count": 5,
   "id": "15a02600",
   "metadata": {},
   "outputs": [
    {
     "name": "stdout",
     "output_type": "stream",
     "text": [
      "Informe um lado do quadrado, para que eu calcule a área :1.2\n",
      " A área deste quadrado é :  1.44\n"
     ]
    }
   ],
   "source": [
    "quadrado = float(input(\"Informe um lado do quadrado, para que eu calcule a área :\"))\n",
    "quadrado = quadrado **2\n",
    "print(\" A área deste quadrado é : \",quadrado)"
   ]
  },
  {
   "cell_type": "markdown",
   "id": "70e2571f",
   "metadata": {},
   "source": [
    "If, Else\n",
    "\n",
    "Exemplo 1 -\n",
    "    Faça um programa que compare se o número digitado pelo teclado for menor ou igual a 10. o Resultado será exibido com uma mensagem com o seguinte formato : \" O resultado da comparação é : x \"onde X é verdadeiro se o número for menor ou igual a 10 e false se o número for menor que 10.\n"
   ]
  },
  {
   "cell_type": "code",
   "execution_count": 8,
   "id": "f26f8478",
   "metadata": {},
   "outputs": [
    {
     "name": "stdout",
     "output_type": "stream",
     "text": [
      "Informe um número qualquer: 11\n",
      "Falso\n"
     ]
    }
   ],
   "source": [
    "num_digitado = int(input (\"Informe um número qualquer: \"))\n",
    "if num_digitado<= 10:\n",
    "    print(\"Verdadeiro\")\n",
    "else:\n",
    "    print(\"Falso\")"
   ]
  },
  {
   "cell_type": "markdown",
   "id": "d3abf0ab",
   "metadata": {},
   "source": [
    "Exemplo 2 - \n",
    "        Faça um programa que leia no teclado o ano de nascimento de uma pessoa e calcule a idade da pessoa. Em seguida queremos que ele nos mostre  a idade da pessoa na tela. E o formato da mensagem deve ser : \" Você tem XX anos.\", onde XX é o número. Também informar se a pessoa for maior de idade, o programa o indicara na próxima linha com a mensagem: \" Você é maior de idade.\""
   ]
  },
  {
   "cell_type": "code",
   "execution_count": 15,
   "id": "0da150b1",
   "metadata": {},
   "outputs": [
    {
     "name": "stdout",
     "output_type": "stream",
     "text": [
      "Informe o ano que você nasceu:1979\n",
      " Você tem  44  anos\n",
      " Maior de idade \n"
     ]
    }
   ],
   "source": [
    "idade = int(input(\"Informe o ano que você nasceu: \"))\n",
    "ano_atual = 2023\n",
    "if idade >= ano_atual:\n",
    "    idade = idade - ano_atual\n",
    "else:\n",
    "    idade = ano_atual - idade\n",
    "    \n",
    "print(\" Você tem \",idade,\" anos\")\n",
    "if idade>= 18:\n",
    "    print(\" Maior de idade \")"
   ]
  },
  {
   "cell_type": "markdown",
   "id": "778187cf",
   "metadata": {},
   "source": []
  }
 ],
 "metadata": {
  "kernelspec": {
   "display_name": "Python 3 (ipykernel)",
   "language": "python",
   "name": "python3"
  },
  "language_info": {
   "codemirror_mode": {
    "name": "ipython",
    "version": 3
   },
   "file_extension": ".py",
   "mimetype": "text/x-python",
   "name": "python",
   "nbconvert_exporter": "python",
   "pygments_lexer": "ipython3",
   "version": "3.10.9"
  }
 },
 "nbformat": 4,
 "nbformat_minor": 5
}
