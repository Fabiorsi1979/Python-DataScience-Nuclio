{
  "cells": [
    {
      "cell_type": "markdown",
      "metadata": {
        "id": "view-in-github",
        "colab_type": "text"
      },
      "source": [
        "<a href=\"https://colab.research.google.com/github/Fabiorsi1979/Python-DataScience-Nuclio/blob/main/exercio3.ipynb\" target=\"_parent\"><img src=\"https://colab.research.google.com/assets/colab-badge.svg\" alt=\"Open In Colab\"/></a>"
      ]
    },
    {
      "cell_type": "markdown",
      "id": "ad516d5f",
      "metadata": {
        "id": "ad516d5f"
      },
      "source": [
        "Operadores\n",
        "\n",
        "Exemplo 1 - \n",
        "    Faça um programa do leia do teclado o ano de nascimento e calcule a idade da pessoa simplesmente com o resto entre o ano atual e o ano de nascimento, em seguida queremos que nos mostre a idade da pessoa na tela. O formato da mensagem deve ser : \" Você tem XX anos\", onde xx é om número.\n"
      ]
    },
    {
      "cell_type": "code",
      "execution_count": 1,
      "id": "e7446780",
      "metadata": {
        "colab": {
          "base_uri": "https://localhost:8080/"
        },
        "id": "e7446780",
        "outputId": "b7673c1c-03db-4231-e579-402093c560de"
      },
      "outputs": [
        {
          "output_type": "stream",
          "name": "stdout",
          "text": [
            "Informe o ano que você nasceu: 1999\n",
            " Você tem  24  anos\n"
          ]
        }
      ],
      "source": [
        "idade = int(input(\"Informe o ano que você nasceu: \"))\n",
        "ano_atual = 2023\n",
        "if idade >= ano_atual:\n",
        "    idade = idade - ano_atual\n",
        "else:\n",
        "    idade = ano_atual - idade\n",
        "\n",
        "print(\" Você tem \",idade,\" anos\")"
      ]
    },
    {
      "cell_type": "markdown",
      "id": "c1180224",
      "metadata": {
        "id": "c1180224"
      },
      "source": [
        "Exemplo 2 -\n",
        "     Faça um programa que peça oa usuário introduzir o tamanho do lado de um quadrado. O programa deve calcular a área de um quadrado e exibi-la na tela."
      ]
    },
    {
      "cell_type": "code",
      "execution_count": null,
      "id": "15a02600",
      "metadata": {
        "id": "15a02600",
        "outputId": "e926cf17-92c0-4686-f40d-ff91b848e7fe"
      },
      "outputs": [
        {
          "name": "stdout",
          "output_type": "stream",
          "text": [
            "Informe um lado do quadrado, para que eu calcule a área :1.2\n",
            " A área deste quadrado é :  1.44\n"
          ]
        }
      ],
      "source": [
        "quadrado = float(input(\"Informe um lado do quadrado, para que eu calcule a área :\"))\n",
        "quadrado = quadrado **2\n",
        "print(\" A área deste quadrado é : \",quadrado)"
      ]
    },
    {
      "cell_type": "markdown",
      "id": "70e2571f",
      "metadata": {
        "id": "70e2571f"
      },
      "source": [
        "If, Else\n",
        "\n",
        "Exemplo 1 -\n",
        "    Faça um programa que compare se o número digitado pelo teclado for menor ou igual a 10. o Resultado será exibido com uma mensagem com o seguinte formato : \" O resultado da comparação é : x \"onde X é verdadeiro se o número for menor ou igual a 10 e false se o número for menor que 10.\n"
      ]
    },
    {
      "cell_type": "code",
      "execution_count": null,
      "id": "f26f8478",
      "metadata": {
        "id": "f26f8478",
        "outputId": "3b8c7bae-0621-4eac-c3f6-939072006335"
      },
      "outputs": [
        {
          "name": "stdout",
          "output_type": "stream",
          "text": [
            "Informe um número qualquer: 11\n",
            "Falso\n"
          ]
        }
      ],
      "source": [
        "num_digitado = int(input (\"Informe um número qualquer: \"))\n",
        "if num_digitado<= 10:\n",
        "    print(\"Verdadeiro\")\n",
        "else:\n",
        "    print(\"Falso\")"
      ]
    },
    {
      "cell_type": "markdown",
      "id": "d3abf0ab",
      "metadata": {
        "id": "d3abf0ab"
      },
      "source": [
        "Exemplo 2 - \n",
        "        Faça um programa que leia no teclado o ano de nascimento de uma pessoa e calcule a idade da pessoa. Em seguida queremos que ele nos mostre  a idade da pessoa na tela. E o formato da mensagem deve ser : \" Você tem XX anos.\", onde XX é o número. Também informar se a pessoa for maior de idade, o programa o indicara na próxima linha com a mensagem: \" Você é maior de idade.\""
      ]
    },
    {
      "cell_type": "code",
      "execution_count": 2,
      "id": "0da150b1",
      "metadata": {
        "colab": {
          "base_uri": "https://localhost:8080/"
        },
        "id": "0da150b1",
        "outputId": "c4b9118b-c81d-4c8f-8527-ba6bbe6b0c2b"
      },
      "outputs": [
        {
          "output_type": "stream",
          "name": "stdout",
          "text": [
            "Informe o ano que você nasceu: 1999\n",
            " Você tem  24  anos\n",
            " Maior de idade \n"
          ]
        }
      ],
      "source": [
        "idade = int(input(\"Informe o ano que você nasceu: \"))\n",
        "ano_atual = 2023\n",
        "if idade >= ano_atual:\n",
        "    idade = idade - ano_atual\n",
        "else:\n",
        "    idade = ano_atual - idade\n",
        "    \n",
        "print(\" Você tem \",idade,\" anos\")\n",
        "if idade>= 18:\n",
        "    print(\" Maior de idade \")"
      ]
    },
    {
      "cell_type": "markdown",
      "source": [
        "Exemplo 3\n",
        "Desenvolva um programa que nos permita saber se um ponto (X,y) "
      ],
      "metadata": {
        "id": "GQ4CIT6bVLx-"
      },
      "id": "GQ4CIT6bVLx-"
    },
    {
      "cell_type": "code",
      "source": [],
      "metadata": {
        "id": "np6u5OTwVOPB"
      },
      "id": "np6u5OTwVOPB",
      "execution_count": null,
      "outputs": []
    }
  ],
  "metadata": {
    "kernelspec": {
      "display_name": "Python 3 (ipykernel)",
      "language": "python",
      "name": "python3"
    },
    "language_info": {
      "codemirror_mode": {
        "name": "ipython",
        "version": 3
      },
      "file_extension": ".py",
      "mimetype": "text/x-python",
      "name": "python",
      "nbconvert_exporter": "python",
      "pygments_lexer": "ipython3",
      "version": "3.10.9"
    },
    "colab": {
      "provenance": [],
      "include_colab_link": true
    }
  },
  "nbformat": 4,
  "nbformat_minor": 5
}