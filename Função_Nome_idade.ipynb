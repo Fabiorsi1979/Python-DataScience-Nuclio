{
 "cells": [
  {
   "attachments": {},
   "cell_type": "markdown",
   "metadata": {},
   "source": [
    "Faça um função que receba uma string de caracteres com o nome e ano atual. A função perguntará a pessoa seu ano de nascimento, formulário personalizado. Sr/a XXXXX em que ano você nasceu ?. onde XXXX é o nome da pessoa. calculará sua idade e devolverá. Faça também o programa principal  que devolverá o ano atual como uma constante, peça o nome do usurário e use a função acima para calcular sua idade. Finalmente o programa exibirá o nome e idade como resultado na tela."
   ]
  },
  {
   "cell_type": "code",
   "execution_count": 1,
   "metadata": {},
   "outputs": [],
   "source": [
    "def idade_nome (nome):\n",
    "    ano = int(input('Sr/a {}, em que ano nasceu'.format(nome)))\n",
    "    return (ano)\n",
    "  "
   ]
  },
  {
   "cell_type": "code",
   "execution_count": 3,
   "metadata": {},
   "outputs": [
    {
     "name": "stdout",
     "output_type": "stream",
     "text": [
      "Fabio  você tem  23 anos\n"
     ]
    }
   ],
   "source": [
    "\n",
    "n = input('Introduza o nome ')\n",
    "y = idade_nome (n)\n",
    "idade = 2022 - y\n",
    "print(n,' você tem ',idade,'anos')"
   ]
  },
  {
   "attachments": {},
   "cell_type": "markdown",
   "metadata": {},
   "source": [
    "Exemplo 3 -\n",
    "Escreva um programa que leia tres inteiros e diga qual o máximo e qual o mínimo, entre eles. Usando a menor comparaçãom possível"
   ]
  },
  {
   "cell_type": "code",
   "execution_count": 27,
   "metadata": {},
   "outputs": [
    {
     "name": "stdout",
     "output_type": "stream",
     "text": [
      "O maior número é : 9  e o menor número é o  7\n"
     ]
    }
   ],
   "source": [
    "num1 = int(input(\"Digite o primeiro número : \"))\n",
    "num2 = int(input(\"Digite o segundo número : \"))\n",
    "num3 = int (input(\"Digite o terceiro número : \"))\n",
    "maior = 0\n",
    "menor = 0\n",
    "if num1>=num2 and num1>=num3:\n",
    "    maior = num1\n",
    "elif num2>=num1 and num2>=num3:\n",
    "    maior = num2\n",
    "else: \n",
    "    maior = num3\n",
    "\n",
    "if num1<=num2 and num1<=num3:\n",
    "    menor = num1\n",
    "elif num2<= num1 and num2<= num3:\n",
    "    menor = num2\n",
    "else:\n",
    "    menor = num3\n",
    "  \n",
    "\n",
    "\n",
    "print(\"O maior número é :\",maior,\" e o menor número é o \",menor)"
   ]
  },
  {
   "attachments": {},
   "cell_type": "markdown",
   "metadata": {},
   "source": [
    "Exemplo 4\n",
    "Construa um programa onde o usuário informe qualquer número inteiro e o programa retorne se é par ou ímpar."
   ]
  },
  {
   "cell_type": "code",
   "execution_count": 45,
   "metadata": {},
   "outputs": [
    {
     "name": "stdout",
     "output_type": "stream",
     "text": [
      "1\n",
      "Número é ímpar!\n"
     ]
    }
   ],
   "source": [
    "num = int(input(\"Informe qualquer número inteiro: \"))\n",
    "num = num%2\n",
    "print (num)\n",
    "if num>=1 :\n",
    "    print(\"Número é ímpar!\")\n",
    "else:\n",
    "    print (\"Número é par\")"
   ]
  },
  {
   "attachments": {},
   "cell_type": "markdown",
   "metadata": {},
   "source": [
    "Construa um programa onde o usuario informará um número e o programa deve avalian se esta entre 0 ou 10 e retornar uma mensagem."
   ]
  },
  {
   "cell_type": "code",
   "execution_count": 2,
   "metadata": {},
   "outputs": [
    {
     "name": "stdout",
     "output_type": "stream",
     "text": [
      " o número  100 não está contido no grupo de 0 à 10\n"
     ]
    }
   ],
   "source": [
    "atedez = int(input(\"Informe um número inteiro\"))\n",
    "if atedez>=0 and atedez<=10:\n",
    "    print(\" O número \",atedez,\" está contido entre 0 e 10\")\n",
    "else:\n",
    "    print(\" o número \",atedez,\"não está contido no grupo de 0 à 10\")"
   ]
  }
 ],
 "metadata": {
  "kernelspec": {
   "display_name": "Python 3",
   "language": "python",
   "name": "python3"
  },
  "language_info": {
   "codemirror_mode": {
    "name": "ipython",
    "version": 3
   },
   "file_extension": ".py",
   "mimetype": "text/x-python",
   "name": "python",
   "nbconvert_exporter": "python",
   "pygments_lexer": "ipython3",
   "version": "3.11.1"
  },
  "orig_nbformat": 4,
  "vscode": {
   "interpreter": {
    "hash": "e243d2380fa881d22828bdff07cb98fd94d408f5b747b4b9c1918d15123df0e1"
   }
  }
 },
 "nbformat": 4,
 "nbformat_minor": 2
}
