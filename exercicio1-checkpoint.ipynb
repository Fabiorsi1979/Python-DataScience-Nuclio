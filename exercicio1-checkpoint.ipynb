{
 "cells": [
  {
   "cell_type": "markdown",
   "id": "23cd80af",
   "metadata": {},
   "source": [
    "Exercício 1\n",
    "    construir um programa onde o usuário introduza 3 variáveis sendo: \"a\",\"b\" e \"c\". Temos que forçar que \"a\" seja jum número inteiro, \"b\" um número decimal e \"c\" uma palavra. Queremos imprimir o valor das três variáveis na mesma frase."
   ]
  },
  {
   "cell_type": "code",
   "execution_count": 20,
   "id": "8143495d",
   "metadata": {
    "scrolled": false
   },
   "outputs": [
    {
     "name": "stdout",
     "output_type": "stream",
     "text": [
      "Informe um número inteiro7\n",
      "Informe um número decimal6.5\n",
      "Informe um textoHello Word!\n",
      "A variável A é um número inteiro:  7  já o B é o número decimal:  6.5  já a variáve C tem op texto:  Hello Word!\n"
     ]
    }
   ],
   "source": [
    "a=int(input(\"Informe um número inteiro\"))\n",
    "b=float(input(\"Informe um número decimal\"))\n",
    "c=str(input(\"Informe um texto\"))\n",
    "print (\"A variável A é um número inteiro: \",a,\" já o B é o número decimal: \",b,\" já a variáve C tem op texto: \",c)"
   ]
  },
  {
   "cell_type": "code",
   "execution_count": 2,
   "id": "20673c65",
   "metadata": {},
   "outputs": [
    {
     "name": "stdout",
     "output_type": "stream",
     "text": [
      "Hello Word!\n"
     ]
    }
   ],
   "source": [
    "print(\"Hello Word!\")"
   ]
  },
  {
   "cell_type": "code",
   "execution_count": 10,
   "id": "e62ae268",
   "metadata": {},
   "outputs": [
    {
     "name": "stdout",
     "output_type": "stream",
     "text": [
      "A variável A guarda o resultado 7 ,a variável B é: 6.5  e a variável C é: Hello Word\n"
     ]
    }
   ],
   "source": [
    "a=7\n",
    "b=6.5\n",
    "c=\"Hello Word\"\n",
    "print(\"A variável A guarda o resultado\",a,\",a variável B é:\",b,\" e a variável C é:\",c)"
   ]
  },
  {
   "cell_type": "markdown",
   "id": "3ee43a2f",
   "metadata": {},
   "source": [
    "Função Texto\n"
   ]
  },
  {
   "cell_type": "code",
   "execution_count": 13,
   "id": "a945dc4c",
   "metadata": {},
   "outputs": [
    {
     "name": "stdout",
     "output_type": "stream",
     "text": [
      "introduza um textoAulas\n"
     ]
    }
   ],
   "source": [
    "texto=input(\"introduza um texto\")"
   ]
  },
  {
   "cell_type": "code",
   "execution_count": 14,
   "id": "e3401d91",
   "metadata": {},
   "outputs": [
    {
     "name": "stdout",
     "output_type": "stream",
     "text": [
      "Aulas\n"
     ]
    }
   ],
   "source": [
    "print(texto)"
   ]
  }
 ],
 "metadata": {
  "kernelspec": {
   "display_name": "Python 3 (ipykernel)",
   "language": "python",
   "name": "python3"
  },
  "language_info": {
   "codemirror_mode": {
    "name": "ipython",
    "version": 3
   },
   "file_extension": ".py",
   "mimetype": "text/x-python",
   "name": "python",
   "nbconvert_exporter": "python",
   "pygments_lexer": "ipython3",
   "version": "3.10.9"
  }
 },
 "nbformat": 4,
 "nbformat_minor": 5
}
