{
 "cells": [
  {
   "cell_type": "markdown",
   "id": "97b77bbb",
   "metadata": {},
   "source": [
    "Exercício 2\n",
    "\n",
    "Crie um programa onde o usuário inclui 2 números inteiros e o programa imprima a soma e a diferença entre eles."
   ]
  },
  {
   "cell_type": "code",
   "execution_count": 6,
   "id": "1ba238d8",
   "metadata": {},
   "outputs": [
    {
     "name": "stdout",
     "output_type": "stream",
     "text": [
      "Informe o primeiro número inteiro:1\n",
      "Informe o segundo número inteiro:1\n",
      "A Soma entre estes números é :  2  e a diferença é:  0\n"
     ]
    }
   ],
   "source": [
    "num1 = int(input(\"Informe o primeiro número inteiro: \"))\n",
    "num2 = int (input(\"Informe o segundo número inteiro: \"))\n",
    "soma= num1 + num2\n",
    "subtracao = 0\n",
    "if num1 >= num2:\n",
    "    subtracao = num1-num2\n",
    "else:\n",
    "    subtracao = num2-num1\n",
    "\n",
    "print (\"A Soma entre estes números é : \",soma,\" e a diferença é: \",subtracao)"
   ]
  },
  {
   "cell_type": "code",
   "execution_count": null,
   "id": "3a12c672",
   "metadata": {},
   "outputs": [],
   "source": []
  }
 ],
 "metadata": {
  "kernelspec": {
   "display_name": "Python 3 (ipykernel)",
   "language": "python",
   "name": "python3"
  },
  "language_info": {
   "codemirror_mode": {
    "name": "ipython",
    "version": 3
   },
   "file_extension": ".py",
   "mimetype": "text/x-python",
   "name": "python",
   "nbconvert_exporter": "python",
   "pygments_lexer": "ipython3",
   "version": "3.10.9"
  }
 },
 "nbformat": 4,
 "nbformat_minor": 5
}
