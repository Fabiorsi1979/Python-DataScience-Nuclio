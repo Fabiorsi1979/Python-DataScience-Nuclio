{
  "nbformat": 4,
  "nbformat_minor": 0,
  "metadata": {
    "colab": {
      "provenance": [],
      "authorship_tag": "ABX9TyNJManyT9/iEvXqRsnqkdal",
      "include_colab_link": true
    },
    "kernelspec": {
      "name": "python3",
      "display_name": "Python 3"
    },
    "language_info": {
      "name": "python"
    }
  },
  "cells": [
    {
      "cell_type": "markdown",
      "metadata": {
        "id": "view-in-github",
        "colab_type": "text"
      },
      "source": [
        "<a href=\"https://colab.research.google.com/github/Fabiorsi1979/Python-DataScience-Nuclio/blob/main/Estudo_Machilne_learning.ipynb\" target=\"_parent\"><img src=\"https://colab.research.google.com/assets/colab-badge.svg\" alt=\"Open In Colab\"/></a>"
      ]
    },
    {
      "cell_type": "markdown",
      "source": [
        "# Exercício 1"
      ],
      "metadata": {
        "id": "sixdSJn79R7a"
      }
    },
    {
      "cell_type": "markdown",
      "source": [
        "Sobrevivendo ao Titanic.\n",
        " - objetivo: Prever quem sobreviverá ao Titanic.\n",
        " - Dados : Um CSV com dados tabulados.\n",
        " -> Idade: Idade\n",
        " -> Tarifa: Tarifa\n",
        " -> Nome : Nome\n",
        " -> Pais/ Filhos : Número de pais/ filhos a bordo\n",
        " -> PClass: Classe no Navio\n",
        " -> Sexo: sexo do passageiro (Homem, Mulher/ Macho, Femea)\n",
        " -> Irmãos/ Cônjuges: Número de Irmãos/ Cônjuges a bordo.\n",
        " -> Sobreviveu: sobrevive (1) ou não (0)\n",
        "\n",
        "Tipo do problema : Classificação\n",
        "Tipo do Dados : Tabulado\n",
        "Que variáveis podemos usar? \n",
        "--> Gênero parece importante.\n",
        "--> Idade também pe importante.\n",
        "Lembrando que a ida para os barcos signica que deveriam ser embarcadas, mulheres e crianças primeiro.\n",
        "\n",
        "A Tarifa, pode ser um bom substituto para a Classe, aqueles com bilhetes mais caros serão salvos primeiro.\n",
        "\n",
        "Como podemos pré-processar os dados?\n",
        "--> Garantiremos que todos os tipos de dados sejam numéricos e nos libvaremos dos possíveis outliers."
      ],
      "metadata": {
        "id": "DbIkHLSq9btS"
      }
    },
    {
      "cell_type": "code",
      "execution_count": 2,
      "metadata": {
        "id": "BXvBmOg-9LOB"
      },
      "outputs": [],
      "source": [
        "# Primeiro importar a Tabela Pandas\n",
        "import pandas as pd"
      ]
    },
    {
      "cell_type": "code",
      "source": [
        "df= pd.read_csv(\"titanic.csv\")"
      ],
      "metadata": {
        "colab": {
          "base_uri": "https://localhost:8080/",
          "height": 130
        },
        "id": "yvrz2pldDgaV",
        "outputId": "5d802b8a-2dd0-4b68-d8dc-1000c5881484"
      },
      "execution_count": 17,
      "outputs": [
        {
          "output_type": "error",
          "ename": "SyntaxError",
          "evalue": "ignored",
          "traceback": [
            "\u001b[0;36m  File \u001b[0;32m\"<ipython-input-17-0aed68b7d2ea>\"\u001b[0;36m, line \u001b[0;32m1\u001b[0m\n\u001b[0;31m    df= pd.read_csv(\"C:\\Users\\fabio\\OneDrive\\Documentos\\Fabio Roberto\\Linguagens de Programação\\Introdução Data Science\\.vscode\")\u001b[0m\n\u001b[0m                                                                                                                                ^\u001b[0m\n\u001b[0;31mSyntaxError\u001b[0m\u001b[0;31m:\u001b[0m (unicode error) 'unicodeescape' codec can't decode bytes in position 2-3: truncated \\UXXXXXXXX escape\n"
          ]
        }
      ]
    }
  ]
}